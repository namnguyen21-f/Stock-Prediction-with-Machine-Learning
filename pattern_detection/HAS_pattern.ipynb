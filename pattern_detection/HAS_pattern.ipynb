{
 "cells": [
  {
   "cell_type": "code",
   "execution_count": 10,
   "metadata": {},
   "outputs": [],
   "source": [
    "# # Display plots inline and change default figure size\n",
    "# %matplotlib inline\n",
    "\n",
    "# Package imports\n",
    "import matplotlib\n",
    "import numpy as np\n",
    "import pandas as pd\n",
    "import matplotlib.pyplot as plt\n",
    "from mplfinance.original_flavor import candlestick_ohlc\n",
    "from pandas_datareader import data as datard\n",
    "from datetime import datetime, timedelta\n",
    "import yfinance\n",
    "import matplotlib.ticker as mticker\n",
    "import keras\n",
    "from keras.models import Sequential\n",
    "from keras.layers import Dense, Dropout, CuDNNLSTM, Conv1D\n",
    "from matplotlib import pyplot as plt\n",
    "from sklearn import preprocessing\n",
    "from sklearn.model_selection import train_test_split\n",
    "from scipy.signal import argrelextrema\n",
    "from mplfinance.original_flavor import candlestick_ohlc\n"
   ]
  },
  {
   "cell_type": "code",
   "execution_count": 11,
   "metadata": {},
   "outputs": [],
   "source": [
    "from statsmodels.nonparametric.kernel_regression import KernelReg\n",
    "\n",
    "def find_local_extreme(data):\n",
    "    df = data.copy()\n",
    "    del df['High']\n",
    "    del df['Low']\n",
    "    del df['Open']\n",
    "    prices = df.copy()\n",
    "    prices = prices.reset_index()\n",
    "    prices.columns = ['date', 'price']\n",
    "    prices = prices['price']\n",
    "    \n",
    "    kr = KernelReg([prices.values], [prices.index.to_numpy()], var_type='c')\n",
    "    f = kr.fit([prices.index])\n",
    "\n",
    "    smooth_prices = pd.Series(data=f[0], index=df.index)\n",
    "\n",
    "    # Use smoothed prices to determine local minima and maxima\n",
    "    smooth_prices = pd.Series(data=f[0], index=prices.index)\n",
    "    smooth_local_max = argrelextrema(smooth_prices.values, np.greater , order = 7)[0]\n",
    "    smooth_local_min = argrelextrema(smooth_prices.values, np.less , order = 7)[0]\n",
    "    local_max_min = np.sort(\n",
    "        np.concatenate([smooth_local_max, smooth_local_min]))\n",
    "    smooth_extrema = smooth_prices.loc[local_max_min]\n",
    "\n",
    "    # Iterate over extrema arrays returning datetime of passed\n",
    "    # prices array. Uses idxmax and idxmin to window for local extrema.\n",
    "    price_local_max_dt = []\n",
    "    for i in smooth_local_max:\n",
    "        if (i > 1) and (i < len(prices)-1):\n",
    "            price_local_max_dt.append(prices.iloc[i-2:i+2].idxmax())\n",
    "\n",
    "    price_local_min_dt = []\n",
    "    for i in smooth_local_min:\n",
    "        if (i > 1) and (i < len(prices)-1):\n",
    "            price_local_min_dt.append(prices.iloc[i-2:i+2].idxmin())\n",
    "\n",
    "    maxima = pd.Series(prices.loc[price_local_max_dt])\n",
    "    minima = pd.Series(prices.loc[price_local_min_dt])\n",
    "    extrema = pd.concat([maxima, minima]).sort_index()\n",
    "\n",
    "    # Return series for each with bar as index\n",
    "    return extrema, prices, smooth_extrema, smooth_prices\n"
   ]
  },
  {
   "cell_type": "code",
   "execution_count": 12,
   "metadata": {},
   "outputs": [],
   "source": [
    "from collections import defaultdict\n",
    "def find_patterns(extrema, max_bars=35):\n",
    "    \"\"\"\n",
    "    Input:\n",
    "        extrema: extrema as pd.series with bar number as index\n",
    "        max_bars: max bars for pattern to play out\n",
    "    Returns:\n",
    "        patterns: patterns as a defaultdict list of tuples\n",
    "        containing the start and end bar of the pattern\n",
    "    \"\"\"\n",
    "    patterns = defaultdict(list)\n",
    "\n",
    "    # Need to start at five extrema for pattern generation\n",
    "    for i in range(5, len(extrema)):\n",
    "        window = extrema.iloc[i-5:i]\n",
    "\n",
    "        # A pattern must play out within max_bars (default 35)\n",
    "        if (window.index[-1] - window.index[0]) > max_bars:\n",
    "            continue\n",
    "\n",
    "        # Using the notation from the paper to avoid mistakes\n",
    "        e1 = window.iloc[0]\n",
    "        e2 = window.iloc[1]\n",
    "        e3 = window.iloc[2]\n",
    "        e4 = window.iloc[3]\n",
    "        e5 = window.iloc[4]\n",
    "\n",
    "        rtop_g1 = np.mean([e1, e3, e5])\n",
    "        rtop_g2 = np.mean([e2, e4])\n",
    "        # Head and Shoulders\n",
    "        if (e1 > e2) and (e3 > e1) and (e3 > e5) and \\\n",
    "                (abs(e1 - e5) <= 0.03*np.mean([e1, e5])) and \\\n",
    "                (abs(e2 - e4) <= 0.03*np.mean([e1, e5])):\n",
    "            patterns['HS'].append((window.index[0], window.index[-1]))\n",
    "\n",
    "        # Inverse Head and Shoulders\n",
    "        elif (e1 < e2) and (e3 < e1) and (e3 < e5) and \\\n",
    "                (abs(e1 - e5) <= 0.03*np.mean([e1, e5])) and \\\n",
    "                (abs(e2 - e4) <= 0.03*np.mean([e1, e5])):\n",
    "            patterns['IHS'].append((window.index[0], window.index[-1]))\n",
    "\n",
    "        # Broadening Top\n",
    "        elif (e1 > e2) and (e1 < e3) and (e3 < e5) and (e2 > e4):\n",
    "            patterns['BTOP'].append((window.index[0], window.index[-1]))\n",
    "\n",
    "        # Broadening Bottom\n",
    "        elif (e1 < e2) and (e1 > e3) and (e3 > e5) and (e2 < e4):\n",
    "            patterns['BBOT'].append((window.index[0], window.index[-1]))\n",
    "\n",
    "        # Triangle Top\n",
    "        elif (e1 > e2) and (e1 > e3) and (e3 > e5) and (e2 < e4):\n",
    "            patterns['TTOP'].append((window.index[0], window.index[-1]))\n",
    "\n",
    "        # Triangle Bottom\n",
    "        elif (e1 < e2) and (e1 < e3) and (e3 < e5) and (e2 > e4):\n",
    "            patterns['TBOT'].append((window.index[0], window.index[-1]))\n",
    "\n",
    "        # Rectangle Top\n",
    "        elif (e1 > e2) and \\\n",
    "                (abs(e1-rtop_g1)/rtop_g1 < 0.0075) and \\\n",
    "                (abs(e3-rtop_g1)/rtop_g1 < 0.0075) and \\\n",
    "                (abs(e5-rtop_g1)/rtop_g1 < 0.0075) and \\\n",
    "                (abs(e2-rtop_g2)/rtop_g2 < 0.0075) and \\\n",
    "                (abs(e4-rtop_g2)/rtop_g2 < 0.0075) and \\\n",
    "                (min(e1, e3, e5) > max(e2, e4)):\n",
    "\n",
    "            patterns['RTOP'].append((window.index[0], window.index[-1]))\n",
    "\n",
    "        # Rectangle Bottom\n",
    "        elif (e1 < e2) and \\\n",
    "                (abs(e1-rtop_g1)/rtop_g1 < 0.0075) and \\\n",
    "                (abs(e3-rtop_g1)/rtop_g1 < 0.0075) and \\\n",
    "                (abs(e5-rtop_g1)/rtop_g1 < 0.0075) and \\\n",
    "                (abs(e2-rtop_g2)/rtop_g2 < 0.0075) and \\\n",
    "                (abs(e4-rtop_g2)/rtop_g2 < 0.0075) and \\\n",
    "                (max(e1, e3, e5) > min(e2, e4)):\n",
    "\n",
    "            patterns['RBOT'].append((window.index[0], window.index[-1]))\n",
    "\n",
    "    return patterns"
   ]
  },
  {
   "cell_type": "code",
   "execution_count": 13,
   "metadata": {},
   "outputs": [],
   "source": [
    "def plot_window(prices, extrema, smooth_prices, smooth_extrema, ax=None):\n",
    "    \"\"\"\n",
    "    Input: data from find_extrema\n",
    "    Output: plots window for actual and smoothed prices and extrema\n",
    "    \"\"\"\n",
    "    if ax is None:\n",
    "        fig = plt.figure(figsize=[20,14])\n",
    "        ax = fig.add_subplot(111)\n",
    "\n",
    "    prices.plot(ax=ax, color='dodgerblue')\n",
    "    ax.scatter(extrema.index, extrema.values, color='red')\n",
    "    smooth_prices.plot(ax=ax, color='lightgrey')\n",
    "    ax.scatter(smooth_extrema.index, smooth_extrema.values, color='lightgrey')"
   ]
  },
  {
   "cell_type": "code",
   "execution_count": 14,
   "metadata": {},
   "outputs": [],
   "source": [
    "#plot_window(prices, extrema, smooth_prices, smooth_extrema)"
   ]
  },
  {
   "cell_type": "code",
   "execution_count": 15,
   "metadata": {},
   "outputs": [],
   "source": [
    "# convert the price data in to actual candlestick parameters. Each candle has 4 parameters\n",
    "# Open\tHigh Low\tClose -< conversion_array\n",
    "# Size of the body measured by pips\n",
    "# Size of the upper wicks measured by pips\n",
    "# Size of the lower wicks measured by pips\n",
    "# Type of the candle (Bullish or Bearish)(Green or Red)(0 or 1)\n",
    "\n",
    "\n",
    "#Handle\n",
    "def ohlc_to_candlestick(conversion_array):\n",
    "    candlestick_data = [0,0,0,0]\n",
    "\n",
    "    if conversion_array[3]>conversion_array[0]:\n",
    "        candle_type=1\n",
    "        wicks_up=conversion_array[1]-conversion_array[3]\n",
    "        wicks_down=conversion_array[2]-conversion_array[0]\n",
    "        body_size=conversion_array[3]-conversion_array[0]\n",
    "\n",
    "    else:\n",
    "        candle_type=0\n",
    "        wicks_up=conversion_array[1]-conversion_array[0]\n",
    "        wicks_down=conversion_array[2]-conversion_array[3]\n",
    "        body_size=conversion_array[1]-conversion_array[3]\n",
    "\n",
    "\n",
    "    if wicks_up < 0:wicks_up=wicks_up*(-1)\n",
    "    if wicks_down < 0:wicks_down=wicks_down*(-1)\n",
    "    if body_size < 0:body_size=body_size*(-1)\n",
    "    \n",
    "    candlestick_data[0]=candle_type\n",
    "    candlestick_data[1]=round(round(wicks_up,5)*10000, 4)\n",
    "    candlestick_data[2]=round(round(wicks_down,5)*10000, 4)\n",
    "    candlestick_data[3]=round(round(body_size,5)*10000, 4)\n",
    "\n",
    "    return candlestick_data"
   ]
  },
  {
   "cell_type": "code",
   "execution_count": 16,
   "metadata": {},
   "outputs": [],
   "source": [
    "def pre_processing(df):\n",
    "    extrema, prices, smooth_extrema, smooth_prices = find_local_extreme(stock_df)\n",
    "    patterns = find_patterns(extrema)\n",
    "    cor_arr = []\n",
    "    for name, pattern_periods in patterns.items():\n",
    "        if name=='HS':    \n",
    "            for start, end in pattern_periods:\n",
    "                x = prices.index[start-1]\n",
    "                y = prices.index[end+1]\n",
    "                if (y-x < 40):\n",
    "                    gap = 40 - y + x \n",
    "                    mid = int(gap / 2)\n",
    "                    x = x - mid\n",
    "                    y = y + gap - mid\n",
    "                    cor_arr.append([x,y])\n",
    "            \n",
    "    X_raw_tmp = [] #Array for actual data\n",
    "    X_tmp = [] #Array for converted data\n",
    "    Y_tmp = [] #Array for prediction based on the condition whether the mean close value of next two week is higher than current close value\n",
    "\n",
    "    for row in cor_arr:\n",
    "        tmp = []\n",
    "        mean = []\n",
    "        prediction = 0\n",
    "        X_raw_tmp.append(df.values[row[0] : row[1]]) # append raw value\n",
    "\n",
    "        for idx in range(row[0] , row[1]):\n",
    "            converted_data = ohlc_to_candlestick(df.values[idx])\n",
    "            tmp.append(converted_data) # convert data to cds \n",
    "\n",
    "        for idx in range(row[1], row[1] + 14):\n",
    "            mean.append(df.values[idx][3])\n",
    "\n",
    "        X_tmp.append(tmp)\n",
    "        if (np.mean(mean) > df.values[row[1]][3]):\n",
    "            prediction = 1\n",
    "        Y_tmp.append(prediction)\n",
    "\n",
    "    X_tmp = np.asarray(X_tmp)\n",
    "    X_raw_tmp = np.asarray(X_raw_tmp)\n",
    "    Y_tmp = np.asarray(Y_tmp)\n",
    "\n",
    "    return X_tmp, Y_tmp, X_raw_tmp\n",
    "\n",
    "X  = np.empty((0, 40 ,4))\n",
    "Y = np.empty((0))\n",
    "X_raw = np.empty((0, 40 ,4))\n"
   ]
  },
  {
   "cell_type": "code",
   "execution_count": 17,
   "metadata": {},
   "outputs": [],
   "source": [
    "X  = np.empty((0, 40 ,4))\n",
    "Y = np.empty((0))\n",
    "X_raw = np.empty((0, 40 ,4))"
   ]
  },
  {
   "cell_type": "code",
   "execution_count": 18,
   "metadata": {},
   "outputs": [
    {
     "name": "stdout",
     "output_type": "stream",
     "text": [
      "[*********************100%***********************]  1 of 1 completed\n",
      "[*********************100%***********************]  1 of 1 completed\n",
      "[*********************100%***********************]  1 of 1 completed\n",
      "[*********************100%***********************]  1 of 1 completed\n",
      "[*********************100%***********************]  1 of 1 completed\n",
      "[*********************100%***********************]  1 of 1 completed\n",
      "[*********************100%***********************]  1 of 1 completed\n"
     ]
    }
   ],
   "source": [
    "stocks = ['AAPL' , 'MSFT' , 'AMD' , 'FB' , 'AMD' , 'FB' , 'AMZN']\n",
    "# , , 'ADSK' , 'ANSS' ,  'AVGO' , 'AZN' , 'FISV' , 'GILD' , 'KHC' , 'NFLX' , 'OKTA' , 'REGN\n",
    "endDate = pd.to_datetime('today')\n",
    "startDate = endDate - timedelta(days = 300 * 30 )\n",
    "\n",
    "for stock in stocks:\n",
    "  stock_df = yfinance.download(stock , startDate , endDate)\n",
    "  del stock_df['Volume']\n",
    "  del stock_df['Adj Close']\n",
    "  X1 , Y1 , X_raw1 = pre_processing(stock_df)\n",
    "  X = np.concatenate((X, X1) , axis= 0)\n",
    "  Y = np.concatenate((Y, Y1) , axis= 0)\n",
    "  X_raw = np.concatenate((X_raw, X_raw1) , axis= 0)"
   ]
  },
  {
   "cell_type": "code",
   "execution_count": 19,
   "metadata": {},
   "outputs": [],
   "source": [
    "from keras import layers\n",
    "from tensorflow.keras.optimizers import RMSprop\n",
    "\n",
    "model = Sequential()\n",
    "\n",
    "model.add(layers.LSTM(units = 25,return_sequences=True, input_shape = (None, X.shape[-1])))\n",
    "model.add(layers.LSTM(units = 50))\n",
    "model.add(Dropout(0.1))\n",
    "model.add(layers.Dense(units = 1,activation='sigmoid'))\n",
    "\n",
    "model.compile(optimizer='rmsprop', loss='binary_crossentropy', metrics=['acc'])"
   ]
  },
  {
   "cell_type": "code",
   "execution_count": 20,
   "metadata": {},
   "outputs": [],
   "source": [
    "X_train, X_val_and_test, Y_train, Y_val_and_test = train_test_split(X, Y, test_size=0.5 , shuffle = False)\n",
    "X_val, X_test, Y_val, Y_test = train_test_split(X_val_and_test, Y_val_and_test, test_size=0.5 , shuffle = False)\n",
    "X_train_raw, X_val_and_test_raw = train_test_split(X_raw, test_size=0.5 , shuffle = False )\n",
    "X_val_raw, X_test_raw = train_test_split(X_val_and_test_raw, test_size=0.5 , shuffle = False)\n"
   ]
  },
  {
   "cell_type": "code",
   "execution_count": 21,
   "metadata": {},
   "outputs": [],
   "source": [
    "model_checkpoint = keras.callbacks.ModelCheckpoint(\n",
    "    \"my_checkpoint\", save_best_only=True)\n",
    "\n",
    "# Set up early stop\n",
    "early_stopping = keras.callbacks.EarlyStopping(patience=20)"
   ]
  },
  {
   "cell_type": "code",
   "execution_count": 22,
   "metadata": {},
   "outputs": [
    {
     "name": "stdout",
     "output_type": "stream",
     "text": [
      "Epoch 1/500\n",
      "1/1 [==============================] - ETA: 0s - loss: 0.6420 - acc: 0.6667"
     ]
    },
    {
     "name": "stderr",
     "output_type": "stream",
     "text": [
      "WARNING:absl:Found untraced functions such as lstm_cell_layer_call_fn, lstm_cell_layer_call_and_return_conditional_losses, lstm_cell_1_layer_call_fn, lstm_cell_1_layer_call_and_return_conditional_losses while saving (showing 4 of 4). These functions will not be directly callable after loading.\n"
     ]
    },
    {
     "name": "stdout",
     "output_type": "stream",
     "text": [
      "INFO:tensorflow:Assets written to: my_checkpoint\\assets\n"
     ]
    },
    {
     "name": "stderr",
     "output_type": "stream",
     "text": [
      "INFO:tensorflow:Assets written to: my_checkpoint\\assets\n",
      "WARNING:absl:<keras.layers.recurrent.LSTMCell object at 0x00000204088C9340> has the same name 'LSTMCell' as a built-in Keras object. Consider renaming <class 'keras.layers.recurrent.LSTMCell'> to avoid naming conflicts when loading with `tf.keras.models.load_model`. If renaming is not possible, pass the object in the `custom_objects` parameter of the load function.\n",
      "WARNING:absl:<keras.layers.recurrent.LSTMCell object at 0x0000020408AB8AC0> has the same name 'LSTMCell' as a built-in Keras object. Consider renaming <class 'keras.layers.recurrent.LSTMCell'> to avoid naming conflicts when loading with `tf.keras.models.load_model`. If renaming is not possible, pass the object in the `custom_objects` parameter of the load function.\n"
     ]
    },
    {
     "name": "stdout",
     "output_type": "stream",
     "text": [
      "1/1 [==============================] - 10s 10s/step - loss: 0.6420 - acc: 0.6667 - val_loss: 0.5415 - val_acc: 0.7500\n",
      "Epoch 2/500\n",
      "1/1 [==============================] - 0s 42ms/step - loss: 0.5785 - acc: 0.6667 - val_loss: 0.5614 - val_acc: 0.7500\n",
      "Epoch 3/500\n",
      "1/1 [==============================] - 0s 44ms/step - loss: 0.5660 - acc: 0.6667 - val_loss: 0.5624 - val_acc: 0.7500\n",
      "Epoch 4/500\n",
      "1/1 [==============================] - 0s 40ms/step - loss: 0.5391 - acc: 0.6667 - val_loss: 0.5640 - val_acc: 0.7500\n",
      "Epoch 5/500\n",
      "1/1 [==============================] - 0s 38ms/step - loss: 0.5015 - acc: 0.6667 - val_loss: 0.5706 - val_acc: 0.7500\n",
      "Epoch 6/500\n",
      "1/1 [==============================] - 0s 41ms/step - loss: 0.4631 - acc: 0.6667 - val_loss: 0.5872 - val_acc: 0.7500\n",
      "Epoch 7/500\n",
      "1/1 [==============================] - 0s 40ms/step - loss: 0.4173 - acc: 0.7778 - val_loss: 0.6526 - val_acc: 0.7500\n",
      "Epoch 8/500\n",
      "1/1 [==============================] - 0s 40ms/step - loss: 0.3566 - acc: 0.8889 - val_loss: 0.7405 - val_acc: 0.7500\n",
      "Epoch 9/500\n",
      "1/1 [==============================] - 0s 38ms/step - loss: 0.5626 - acc: 0.6667 - val_loss: 0.6744 - val_acc: 0.7500\n",
      "Epoch 10/500\n",
      "1/1 [==============================] - 0s 36ms/step - loss: 0.3708 - acc: 1.0000 - val_loss: 0.6611 - val_acc: 0.7500\n",
      "Epoch 11/500\n",
      "1/1 [==============================] - 0s 38ms/step - loss: 0.3306 - acc: 0.7778 - val_loss: 0.7572 - val_acc: 0.7500\n",
      "Epoch 12/500\n",
      "1/1 [==============================] - 0s 38ms/step - loss: 0.2778 - acc: 0.8889 - val_loss: 0.8422 - val_acc: 0.7500\n",
      "Epoch 13/500\n",
      "1/1 [==============================] - 0s 44ms/step - loss: 0.2350 - acc: 0.8889 - val_loss: 0.9746 - val_acc: 0.7500\n",
      "Epoch 14/500\n",
      "1/1 [==============================] - 0s 38ms/step - loss: 0.2090 - acc: 1.0000 - val_loss: 1.0686 - val_acc: 0.7500\n",
      "Epoch 15/500\n",
      "1/1 [==============================] - 0s 39ms/step - loss: 0.1857 - acc: 1.0000 - val_loss: 1.2615 - val_acc: 0.2500\n",
      "Epoch 16/500\n",
      "1/1 [==============================] - 0s 41ms/step - loss: 0.1458 - acc: 1.0000 - val_loss: 1.2307 - val_acc: 0.2500\n",
      "Epoch 17/500\n",
      "1/1 [==============================] - 0s 42ms/step - loss: 0.1272 - acc: 1.0000 - val_loss: 1.4961 - val_acc: 0.2500\n",
      "Epoch 18/500\n",
      "1/1 [==============================] - 0s 39ms/step - loss: 0.1192 - acc: 1.0000 - val_loss: 1.0007 - val_acc: 0.7500\n",
      "Epoch 19/500\n",
      "1/1 [==============================] - 0s 37ms/step - loss: 0.1706 - acc: 0.8889 - val_loss: 1.1606 - val_acc: 0.2500\n",
      "Epoch 20/500\n",
      "1/1 [==============================] - 0s 44ms/step - loss: 0.4375 - acc: 0.7778 - val_loss: 0.9541 - val_acc: 0.7500\n",
      "Epoch 21/500\n",
      "1/1 [==============================] - 0s 38ms/step - loss: 0.3777 - acc: 0.7778 - val_loss: 0.8261 - val_acc: 0.7500\n"
     ]
    }
   ],
   "source": [
    "history = model.fit(X_train, Y_train, epochs= 500 , validation_data=(X_val, Y_val) , callbacks=[model_checkpoint , early_stopping])"
   ]
  },
  {
   "cell_type": "code",
   "execution_count": 23,
   "metadata": {},
   "outputs": [
    {
     "data": {
      "image/png": "[encoded data removed]",
      "text/plain": [
       "<Figure size 432x288 with 1 Axes>"
      ]
     },
     "metadata": {
      "needs_background": "light"
     },
     "output_type": "display_data"
    },
    {
     "data": {
      "image/png": "[encoded data removed]",
      "text/plain": [
       "<Figure size 432x288 with 1 Axes>"
      ]
     },
     "metadata": {
      "needs_background": "light"
     },
     "output_type": "display_data"
    }
   ],
   "source": [
    "# Chart 1 - Model Loss\n",
    "#plt.subplot(331)\n",
    "plt.plot(history.history['loss'])\n",
    "plt.plot(history.history['val_loss'])\n",
    "plt.title('Model loss')\n",
    "plt.ylabel('Loss')\n",
    "plt.xlabel('Epoch')\n",
    "plt.legend(['Train', 'Val'], loc='upper right')\n",
    "plt.show()\n",
    "\n",
    "\n",
    "# Chart 2 - Model Accuracy\n",
    "#plt.subplot(332)\n",
    "plt.plot(history.history['acc'])\n",
    "plt.plot(history.history['val_acc'])\n",
    "plt.title('Model accuracy')\n",
    "plt.ylabel('Accuracy')\n",
    "plt.xlabel('Epoch')\n",
    "plt.legend(['Train', 'Val'], loc='lower right')\n",
    "plt.show()"
   ]
  },
  {
   "cell_type": "code",
   "execution_count": 24,
   "metadata": {},
   "outputs": [
    {
     "name": "stdout",
     "output_type": "stream",
     "text": [
      "1/1 [==============================] - 0s 18ms/step - loss: 1.0690 - acc: 0.4000\n",
      "Test accuracy: 0.4000000059604645\n"
     ]
    }
   ],
   "source": [
    "test_loss, test_acc = model.evaluate(X_test, Y_test)\n",
    "print('Test accuracy:', test_acc)"
   ]
  },
  {
   "cell_type": "code",
   "execution_count": 25,
   "metadata": {},
   "outputs": [],
   "source": [
    "# Timestep = List of candles seqeuence\n",
    "# Items = Candlestick\n",
    "# Features = High, Low, Open, Close parametes\n",
    "def graph_data_ohlc(dataset):\n",
    "    ax1 = plt.subplot2grid((1,1), (0,0))\n",
    "    closep=dataset[:,[3]]\n",
    "    highp=dataset[:,[1]]\n",
    "    lowp=dataset[:,[2]]\n",
    "    openp=dataset[:,[0]]\n",
    "    date = range(len(closep))\n",
    "\n",
    "    x = 0\n",
    "    y = len(date)\n",
    "    ohlc = []\n",
    "\n",
    "    while x < y:\n",
    "        append_me = date[x], openp[x], highp[x], lowp[x], closep[x]\n",
    "        ohlc.append(append_me)\n",
    "        x += 1\n",
    "\n",
    "    candlestick_ohlc(ax1, ohlc, width=0.4, colorup='#77d879', colordown='#db3f3f')\n",
    "\n",
    "    for label in ax1.xaxis.get_ticklabels():\n",
    "        label.set_rotation(45)\n",
    "        \n",
    "    ax1.xaxis.set_major_locator(mticker.MaxNLocator(10))\n",
    "    ax1.grid(True)\n",
    "\n",
    "\n",
    "    plt.xlabel('Candle')\n",
    "    plt.ylabel('Price')\n",
    "    plt.title('Candlestick sample representation')\n",
    "\n",
    "    plt.subplots_adjust(left=0.09, bottom=0.20, right=0.94, top=0.90, wspace=0.2, hspace=0)    \n",
    "    plt.show()"
   ]
  },
  {
   "cell_type": "code",
   "execution_count": 26,
   "metadata": {},
   "outputs": [
    {
     "name": "stdout",
     "output_type": "stream",
     "text": [
      "[0.14882371]\n",
      "Correct trend is Bullish\n",
      "Model prediction trend is Bearish\n",
      "LOST\n"
     ]
    },
    {
     "name": "stderr",
     "output_type": "stream",
     "text": [
      "C:\\Python39\\lib\\site-packages\\numpy\\core\\_asarray.py:102: VisibleDeprecationWarning: Creating an ndarray from ragged nested sequences (which is a list-or-tuple of lists-or-tuples-or ndarrays with different lengths or shapes) is deprecated. If you meant to do this, you must specify 'dtype=object' when creating the ndarray.\n",
      "  return array(a, dtype, copy=False, order=order)\n"
     ]
    },
    {
     "data": {
      "image/png": "[encoded data removed]",
      "text/plain": [
       "<Figure size 432x288 with 1 Axes>"
      ]
     },
     "metadata": {
      "needs_background": "light"
     },
     "output_type": "display_data"
    },
    {
     "name": "stdout",
     "output_type": "stream",
     "text": [
      "[0.28558952]\n",
      "Correct trend is Bearish\n",
      "Model prediction trend is Bearish\n",
      "WON\n"
     ]
    },
    {
     "data": {
      "image/png": "[encoded data removed]",
      "text/plain": [
       "<Figure size 432x288 with 1 Axes>"
      ]
     },
     "metadata": {
      "needs_background": "light"
     },
     "output_type": "display_data"
    },
    {
     "name": "stdout",
     "output_type": "stream",
     "text": [
      "[0.5557246]\n",
      "Correct trend is Bearish\n",
      "Model prediction trend is Bullish\n",
      "LOST\n"
     ]
    },
    {
     "data": {
      "image/png": "[encoded data removed]",
      "text/plain": [
       "<Figure size 432x288 with 1 Axes>"
      ]
     },
     "metadata": {
      "needs_background": "light"
     },
     "output_type": "display_data"
    },
    {
     "name": "stdout",
     "output_type": "stream",
     "text": [
      "[0.1566129]\n",
      "Correct trend is Bullish\n",
      "Model prediction trend is Bearish\n",
      "LOST\n"
     ]
    },
    {
     "data": {
      "image/png": "[encoded data removed]",
      "text/plain": [
       "<Figure size 432x288 with 1 Axes>"
      ]
     },
     "metadata": {
      "needs_background": "light"
     },
     "output_type": "display_data"
    },
    {
     "name": "stdout",
     "output_type": "stream",
     "text": [
      "[0.64515054]\n",
      "Correct trend is Bullish\n",
      "Model prediction trend is Bullish\n",
      "WON\n"
     ]
    },
    {
     "data": {
      "image/png": "[encoded data removed]",
      "text/plain": [
       "<Figure size 432x288 with 1 Axes>"
      ]
     },
     "metadata": {
      "needs_background": "light"
     },
     "output_type": "display_data"
    },
    {
     "name": "stdout",
     "output_type": "stream",
     "text": [
      "Won: 2 Lost: 3\n",
      "Success rate: 40.0%\n"
     ]
    }
   ],
   "source": [
    "\n",
    "counter = 0\n",
    "won = 0\n",
    "lost = 0\n",
    "bullish_counter = 0\n",
    "bearish_counter = 0\n",
    "test = model.predict(X_test)\n",
    "alpha_distance = 0.5\n",
    "\n",
    "for a in test:\n",
    "    print(a)\n",
    "    if a > (1-alpha_distance) or a < alpha_distance :\n",
    "        if Y_test[counter] == 1:\n",
    "            print('Correct trend is Bullish')\n",
    "            bullish_counter = bullish_counter + 1\n",
    "        if Y_test[counter] == 0:\n",
    "            print('Correct trend is Bearish')\n",
    "            bearish_counter = bearish_counter + 1\n",
    "        if a > (1-alpha_distance):print('Model prediction trend is Bullish')\n",
    "        if a < alpha_distance:print('Model prediction trend is Bearish')\n",
    "\n",
    "        if (a > (1-alpha_distance) and Y_test[counter] == 1) or (a < alpha_distance and Y_test[counter] == 0):\n",
    "            won=won+1\n",
    "            print('WON')\n",
    "        else:\n",
    "            print('LOST')\n",
    "            lost=lost+1\n",
    "\n",
    "        d_arr = np.empty(( 0 ,4))\n",
    "\n",
    "        d_arr = np.append(d_arr , X_test_raw[counter] , axis= 0 )\n",
    "        \n",
    "\n",
    "        graph_data_ohlc(d_arr)\n",
    "\n",
    "    counter=counter+1\n",
    "    \n",
    "print('Won: ' + str(won) + ' Lost: ' + str(lost))\n",
    "print('Success rate: ' + str(round((won*100)/(won+lost),2)) + '%')\n"
   ]
  },
  {
   "cell_type": "code",
   "execution_count": 27,
   "metadata": {},
   "outputs": [
    {
     "data": {
      "text/plain": [
       "0.4"
      ]
     },
     "execution_count": 27,
     "metadata": {},
     "output_type": "execute_result"
    }
   ],
   "source": [
    "bearish_counter / ( bullish_counter + bearish_counter)"
   ]
  }
 ],
 "metadata": {
  "interpreter": {
   "hash": "63fd5069d213b44bf678585dea6b12cceca9941eaf7f819626cde1f2670de90d"
  },
  "kernelspec": {
   "display_name": "Python 3.9.0 64-bit",
   "language": "python",
   "name": "python3"
  },
  "language_info": {
   "codemirror_mode": {
    "name": "ipython",
    "version": 3
   },
   "file_extension": ".py",
   "mimetype": "text/x-python",
   "name": "python",
   "nbconvert_exporter": "python",
   "pygments_lexer": "ipython3",
   "version": "3.9.0"
  },
  "orig_nbformat": 4
 },
 "nbformat": 4,
 "nbformat_minor": 2
}
