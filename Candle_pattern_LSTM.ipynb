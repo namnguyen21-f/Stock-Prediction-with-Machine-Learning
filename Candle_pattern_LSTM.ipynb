{
 "cells": [
  {
   "cell_type": "code",
   "execution_count": 1,
   "metadata": {},
   "outputs": [],
   "source": [
    "import matplotlib\n",
    "import numpy as np\n",
    "import pandas as pd\n",
    "import itertools\n",
    "import sklearn\n",
    "import keras\n",
    "import time\n",
    "import shap\n",
    "import yfinance\n",
    "\n",
    "from datetime import datetime, timedelta\n",
    "from keras.models import Sequential\n",
    "from keras.layers import Dense, Dropout, CuDNNLSTM, Conv1D\n",
    "from matplotlib import pyplot as plt\n",
    "from sklearn import preprocessing\n",
    "\n",
    "\n",
    "from sklearn.model_selection import train_test_split\n",
    "import matplotlib.pyplot as plt\n",
    "import matplotlib.ticker as mticker\n",
    "from mplfinance.original_flavor import candlestick_ohlc\n"
   ]
  },
  {
   "cell_type": "code",
   "execution_count": 2,
   "metadata": {},
   "outputs": [],
   "source": [
    "class MeasureTime:\n",
    "    def __init__(self):\n",
    "        self.start = time.time()\n",
    "    def kill(self):\n",
    "        print ('Time elapsed: ' + time.strftime(\"%H:%M:%S\", time.gmtime(time.time()-self.start)))\n",
    "        del self"
   ]
  },
  {
   "cell_type": "code",
   "execution_count": 3,
   "metadata": {},
   "outputs": [
    {
     "name": "stdout",
     "output_type": "stream",
     "text": [
      "Time elapsed: 00:00:00\n"
     ]
    }
   ],
   "source": [
    "Notebook_timer = MeasureTime()\n",
    "Notebook_timer.kill()"
   ]
  },
  {
   "cell_type": "code",
   "execution_count": 4,
   "metadata": {},
   "outputs": [
    {
     "name": "stdout",
     "output_type": "stream",
     "text": [
      "[*********************100%***********************]  1 of 1 completed\n"
     ]
    },
    {
     "data": {
      "text/html": [
       "<div>\n",
       "<style scoped>\n",
       "    .dataframe tbody tr th:only-of-type {\n",
       "        vertical-align: middle;\n",
       "    }\n",
       "\n",
       "    .dataframe tbody tr th {\n",
       "        vertical-align: top;\n",
       "    }\n",
       "\n",
       "    .dataframe thead th {\n",
       "        text-align: right;\n",
       "    }\n",
       "</style>\n",
       "<table border=\"1\" class=\"dataframe\">\n",
       "  <thead>\n",
       "    <tr style=\"text-align: right;\">\n",
       "      <th></th>\n",
       "      <th>Open</th>\n",
       "      <th>High</th>\n",
       "      <th>Low</th>\n",
       "      <th>Close</th>\n",
       "      <th>Adj Close</th>\n",
       "      <th>Volume</th>\n",
       "    </tr>\n",
       "    <tr>\n",
       "      <th>Date</th>\n",
       "      <th></th>\n",
       "      <th></th>\n",
       "      <th></th>\n",
       "      <th></th>\n",
       "      <th></th>\n",
       "      <th></th>\n",
       "    </tr>\n",
       "  </thead>\n",
       "  <tbody>\n",
       "    <tr>\n",
       "      <th>1990-03-26</th>\n",
       "      <td>0.379464</td>\n",
       "      <td>0.387277</td>\n",
       "      <td>0.375000</td>\n",
       "      <td>0.377232</td>\n",
       "      <td>0.302765</td>\n",
       "      <td>128060800</td>\n",
       "    </tr>\n",
       "    <tr>\n",
       "      <th>1990-03-27</th>\n",
       "      <td>0.375000</td>\n",
       "      <td>0.377232</td>\n",
       "      <td>0.368304</td>\n",
       "      <td>0.375000</td>\n",
       "      <td>0.300974</td>\n",
       "      <td>84604800</td>\n",
       "    </tr>\n",
       "    <tr>\n",
       "      <th>1990-03-28</th>\n",
       "      <td>0.375000</td>\n",
       "      <td>0.376116</td>\n",
       "      <td>0.366071</td>\n",
       "      <td>0.368304</td>\n",
       "      <td>0.295600</td>\n",
       "      <td>102939200</td>\n",
       "    </tr>\n",
       "    <tr>\n",
       "      <th>1990-03-29</th>\n",
       "      <td>0.366071</td>\n",
       "      <td>0.370536</td>\n",
       "      <td>0.363839</td>\n",
       "      <td>0.367188</td>\n",
       "      <td>0.294704</td>\n",
       "      <td>96891200</td>\n",
       "    </tr>\n",
       "    <tr>\n",
       "      <th>1990-03-30</th>\n",
       "      <td>0.357143</td>\n",
       "      <td>0.366071</td>\n",
       "      <td>0.357143</td>\n",
       "      <td>0.359375</td>\n",
       "      <td>0.288433</td>\n",
       "      <td>223350400</td>\n",
       "    </tr>\n",
       "    <tr>\n",
       "      <th>...</th>\n",
       "      <td>...</td>\n",
       "      <td>...</td>\n",
       "      <td>...</td>\n",
       "      <td>...</td>\n",
       "      <td>...</td>\n",
       "      <td>...</td>\n",
       "    </tr>\n",
       "    <tr>\n",
       "      <th>2022-03-09</th>\n",
       "      <td>161.479996</td>\n",
       "      <td>163.410004</td>\n",
       "      <td>159.410004</td>\n",
       "      <td>162.949997</td>\n",
       "      <td>162.949997</td>\n",
       "      <td>91454900</td>\n",
       "    </tr>\n",
       "    <tr>\n",
       "      <th>2022-03-10</th>\n",
       "      <td>160.199997</td>\n",
       "      <td>160.389999</td>\n",
       "      <td>155.979996</td>\n",
       "      <td>158.520004</td>\n",
       "      <td>158.520004</td>\n",
       "      <td>105342000</td>\n",
       "    </tr>\n",
       "    <tr>\n",
       "      <th>2022-03-11</th>\n",
       "      <td>158.929993</td>\n",
       "      <td>159.279999</td>\n",
       "      <td>154.500000</td>\n",
       "      <td>154.729996</td>\n",
       "      <td>154.729996</td>\n",
       "      <td>96836300</td>\n",
       "    </tr>\n",
       "    <tr>\n",
       "      <th>2022-03-14</th>\n",
       "      <td>151.449997</td>\n",
       "      <td>154.119995</td>\n",
       "      <td>150.100006</td>\n",
       "      <td>150.619995</td>\n",
       "      <td>150.619995</td>\n",
       "      <td>108732100</td>\n",
       "    </tr>\n",
       "    <tr>\n",
       "      <th>2022-03-15</th>\n",
       "      <td>150.899994</td>\n",
       "      <td>155.570007</td>\n",
       "      <td>150.384995</td>\n",
       "      <td>155.089996</td>\n",
       "      <td>155.089996</td>\n",
       "      <td>89231766</td>\n",
       "    </tr>\n",
       "  </tbody>\n",
       "</table>\n",
       "<p>8056 rows × 6 columns</p>\n",
       "</div>"
      ],
      "text/plain": [
       "                  Open        High         Low       Close   Adj Close  \\\n",
       "Date                                                                     \n",
       "1990-03-26    0.379464    0.387277    0.375000    0.377232    0.302765   \n",
       "1990-03-27    0.375000    0.377232    0.368304    0.375000    0.300974   \n",
       "1990-03-28    0.375000    0.376116    0.366071    0.368304    0.295600   \n",
       "1990-03-29    0.366071    0.370536    0.363839    0.367188    0.294704   \n",
       "1990-03-30    0.357143    0.366071    0.357143    0.359375    0.288433   \n",
       "...                ...         ...         ...         ...         ...   \n",
       "2022-03-09  161.479996  163.410004  159.410004  162.949997  162.949997   \n",
       "2022-03-10  160.199997  160.389999  155.979996  158.520004  158.520004   \n",
       "2022-03-11  158.929993  159.279999  154.500000  154.729996  154.729996   \n",
       "2022-03-14  151.449997  154.119995  150.100006  150.619995  150.619995   \n",
       "2022-03-15  150.899994  155.570007  150.384995  155.089996  155.089996   \n",
       "\n",
       "               Volume  \n",
       "Date                   \n",
       "1990-03-26  128060800  \n",
       "1990-03-27   84604800  \n",
       "1990-03-28  102939200  \n",
       "1990-03-29   96891200  \n",
       "1990-03-30  223350400  \n",
       "...               ...  \n",
       "2022-03-09   91454900  \n",
       "2022-03-10  105342000  \n",
       "2022-03-11   96836300  \n",
       "2022-03-14  108732100  \n",
       "2022-03-15   89231766  \n",
       "\n",
       "[8056 rows x 6 columns]"
      ]
     },
     "execution_count": 4,
     "metadata": {},
     "output_type": "execute_result"
    }
   ],
   "source": [
    "\n",
    "def get_stock_dataframe(ticker , startDate , endDate):\n",
    "  #Get the stock\n",
    "  df = datard.DataReader(ticker, 'stooq', startDate, endDate , '1h')\n",
    "  #Reverse the data frame\n",
    "  df = df.iloc[::-1]\n",
    "  return df\n",
    "  \n",
    "ticker = 'AAPL'\n",
    "endDate = pd.to_datetime('today')\n",
    "startDate = endDate - timedelta(days = 365 * 32 )\n",
    "\n",
    "df = yfinance.download(ticker , startDate , endDate )\n",
    "# df = get_stock_dataframe(ticker , startDate , endDate , i)\n",
    "df"
   ]
  },
  {
   "cell_type": "code",
   "execution_count": 5,
   "metadata": {},
   "outputs": [],
   "source": [
    "del df['Adj Close']\n",
    "del df['Volume']\n",
    "\n",
    "lookback = 3 # >=3 number of days for recognizing candle pattern "
   ]
  },
  {
   "cell_type": "code",
   "execution_count": 6,
   "metadata": {},
   "outputs": [],
   "source": [
    "# Timestep = List of candles seqeuence\n",
    "# Items = Candlestick\n",
    "# Features = High, Low, Open, Close parametes\n",
    "def graph_data_ohlc(dataset):\n",
    "    fig = plt.figure()\n",
    "    ax1 = plt.subplot2grid((1,1), (0,0))\n",
    "    closep=dataset[:,[3]]\n",
    "    highp=dataset[:,[1]]\n",
    "    lowp=dataset[:,[2]]\n",
    "    openp=dataset[:,[0]]\n",
    "\n",
    "    date = range(len(closep))\n",
    "\n",
    "    x = 0\n",
    "    y = len(date)\n",
    "    ohlc = []\n",
    "\n",
    "    while x < y:\n",
    "        append_me = date[x], openp[x], highp[x], lowp[x], closep[x]\n",
    "        ohlc.append(append_me)\n",
    "        x += 1\n",
    "\n",
    "    candlestick_ohlc(ax1, ohlc, width=0.4, colorup='#77d879', colordown='#db3f3f')\n",
    "\n",
    "    for label in ax1.xaxis.get_ticklabels():\n",
    "        label.set_rotation(45)\n",
    "        \n",
    "    ax1.xaxis.set_major_locator(mticker.MaxNLocator(10))\n",
    "    ax1.grid(True)\n",
    "    \n",
    "    plt.xlabel('Candle')\n",
    "    plt.ylabel('Price')\n",
    "    plt.title('Candlestick sample representation')\n",
    "\n",
    "    plt.subplots_adjust(left=0.09, bottom=0.20, right=0.94, top=0.90, wspace=0.2, hspace=0)\n",
    "    plt.show()"
   ]
  },
  {
   "cell_type": "code",
   "execution_count": 7,
   "metadata": {},
   "outputs": [
    {
     "name": "stderr",
     "output_type": "stream",
     "text": [
      "Creating an ndarray from ragged nested sequences (which is a list-or-tuple of lists-or-tuples-or ndarrays with different lengths or shapes) is deprecated. If you meant to do this, you must specify 'dtype=object' when creating the ndarray.\n"
     ]
    },
    {
     "data": {
      "image/png": "[encoded data removed]",
      "text/plain": [
       "<Figure size 432x288 with 1 Axes>"
      ]
     },
     "metadata": {
      "needs_background": "light"
     },
     "output_type": "display_data"
    }
   ],
   "source": [
    "graph_data_ohlc(df.tail(500).values)"
   ]
  },
  {
   "cell_type": "code",
   "execution_count": 8,
   "metadata": {},
   "outputs": [],
   "source": [
    "#Custom generator function to create 3d arrays of candles sequence\n",
    "#We will look for patterns based on the last 3 candles. \n",
    "#To do so, we need to change the format of our dataset to 3 dimensional array (Timestep, Items, Features) .\n",
    "def my_generator(data,lookback):\n",
    "    final_output = []\n",
    "    counter = 0\n",
    "    first_row = 0\n",
    "    arr = np.empty((1,lookback,4), int)\n",
    "    for a in range(len(data)-lookback):\n",
    "        temp_list = []\n",
    "        for candle in data[first_row: first_row + lookback]:\n",
    "            temp_list.append(candle)\n",
    "            \n",
    "        temp_list2 = np.asarray(temp_list)\n",
    "        templist3 = [temp_list2]\n",
    "        templist4 = np.asarray(templist3)\n",
    "        \n",
    "        arr = np.append(arr, templist4, axis=0)\n",
    "        first_row=first_row + 1\n",
    "    return arr"
   ]
  },
  {
   "cell_type": "code",
   "execution_count": 9,
   "metadata": {},
   "outputs": [
    {
     "name": "stdout",
     "output_type": "stream",
     "text": [
      "Time elapsed: 00:00:00\n"
     ]
    }
   ],
   "source": [
    "cell_timer = MeasureTime()\n",
    "three_dim_sequence = np.asarray(my_generator(df.values[0:], lookback))\n",
    "cell_timer.kill()"
   ]
  },
  {
   "cell_type": "code",
   "execution_count": 10,
   "metadata": {},
   "outputs": [
    {
     "data": {
      "text/plain": [
       "(8054, 3, 4)"
      ]
     },
     "execution_count": 10,
     "metadata": {},
     "output_type": "execute_result"
    }
   ],
   "source": [
    "three_dim_sequence.shape"
   ]
  },
  {
   "cell_type": "code",
   "execution_count": 11,
   "metadata": {},
   "outputs": [
    {
     "name": "stdout",
     "output_type": "stream",
     "text": [
      "Step 1\n"
     ]
    },
    {
     "data": {
      "image/png": "[encoded data removed]",
      "text/plain": [
       "<Figure size 432x288 with 1 Axes>"
      ]
     },
     "metadata": {
      "needs_background": "light"
     },
     "output_type": "display_data"
    },
    {
     "name": "stdout",
     "output_type": "stream",
     "text": [
      "Step 2\n"
     ]
    },
    {
     "data": {
      "image/png": "[encoded data removed]",
      "text/plain": [
       "<Figure size 432x288 with 1 Axes>"
      ]
     },
     "metadata": {
      "needs_background": "light"
     },
     "output_type": "display_data"
    },
    {
     "name": "stdout",
     "output_type": "stream",
     "text": [
      "Step 3\n"
     ]
    },
    {
     "data": {
      "image/png": "[encoded data removed]",
      "text/plain": [
       "<Figure size 432x288 with 1 Axes>"
      ]
     },
     "metadata": {
      "needs_background": "light"
     },
     "output_type": "display_data"
    },
    {
     "name": "stdout",
     "output_type": "stream",
     "text": [
      "Step 4\n"
     ]
    },
    {
     "data": {
      "image/png": "[encoded data removed]",
      "text/plain": [
       "<Figure size 432x288 with 1 Axes>"
      ]
     },
     "metadata": {
      "needs_background": "light"
     },
     "output_type": "display_data"
    },
    {
     "name": "stdout",
     "output_type": "stream",
     "text": [
      "Step 5\n"
     ]
    },
    {
     "data": {
      "image/png": "[encoded data removed]",
      "text/plain": [
       "<Figure size 432x288 with 1 Axes>"
      ]
     },
     "metadata": {
      "needs_background": "light"
     },
     "output_type": "display_data"
    }
   ],
   "source": [
    "counter=0\n",
    "for candle in three_dim_sequence[1000:1005]:\n",
    "    counter=counter+1\n",
    "    print('Step ' + str(counter))\n",
    "    graph_data_ohlc(candle)"
   ]
  },
  {
   "cell_type": "markdown",
   "metadata": {},
   "source": []
  },
  {
   "cell_type": "code",
   "execution_count": 12,
   "metadata": {},
   "outputs": [],
   "source": [
    "# convert the price data in to actual candlestick parameters. Each candle has 4 parameters\n",
    "# Open\tHigh Low\tClose -< conversion_array\n",
    "# Size of the body measured by pips\n",
    "# Size of the upper wicks measured by pips\n",
    "# Size of the lower wicks measured by pips\n",
    "# Type of the candle (Bullish or Bearish)(Green or Red)(0 or 1)\n",
    "\n",
    "\n",
    "#Handle\n",
    "def ohlc_to_candlestick(conversion_array):\n",
    "    candlestick_data = [0,0,0,0]\n",
    "\n",
    "    if conversion_array[3]>conversion_array[0]:\n",
    "        candle_type=1\n",
    "        wicks_up=conversion_array[1]-conversion_array[3]\n",
    "        wicks_down=conversion_array[2]-conversion_array[0]\n",
    "        body_size=conversion_array[3]-conversion_array[0]\n",
    "\n",
    "    else:\n",
    "        candle_type=0\n",
    "        wicks_up=conversion_array[1]-conversion_array[0]\n",
    "        wicks_down=conversion_array[2]-conversion_array[3]\n",
    "        body_size=conversion_array[1]-conversion_array[3]\n",
    "\n",
    "\n",
    "    if wicks_up < 0:wicks_up=wicks_up*(-1)\n",
    "    if wicks_down < 0:wicks_down=wicks_down*(-1)\n",
    "    if body_size < 0:body_size=body_size*(-1)\n",
    "    \n",
    "    candlestick_data[0]=candle_type\n",
    "    candlestick_data[1]=round(round(wicks_up,5)*10000, 4)\n",
    "    candlestick_data[2]=round(round(wicks_down,5)*10000, 4)\n",
    "    candlestick_data[3]=round(round(body_size,5)*10000, 4)\n",
    "\n",
    "    return candlestick_data"
   ]
  },
  {
   "cell_type": "code",
   "execution_count": 13,
   "metadata": {},
   "outputs": [
    {
     "name": "stdout",
     "output_type": "stream",
     "text": [
      "Time elapsed: 00:00:00\n"
     ]
    }
   ],
   "source": [
    "cell_timer = MeasureTime()\n",
    "one_candle_data_ohlc=three_dim_sequence[1000:1010][5][1]\n",
    "cell_timer.kill()"
   ]
  },
  {
   "cell_type": "code",
   "execution_count": 14,
   "metadata": {},
   "outputs": [
    {
     "data": {
      "text/plain": [
       "array([0.34151801, 0.34151801, 0.332589  , 0.33593801])"
      ]
     },
     "execution_count": 14,
     "metadata": {},
     "output_type": "execute_result"
    }
   ],
   "source": [
    "one_candle_data_ohlc"
   ]
  },
  {
   "cell_type": "code",
   "execution_count": 15,
   "metadata": {},
   "outputs": [],
   "source": [
    "one_candle_data_ohlc_candle=ohlc_to_candlestick(one_candle_data_ohlc)"
   ]
  },
  {
   "cell_type": "code",
   "execution_count": 16,
   "metadata": {},
   "outputs": [
    {
     "data": {
      "text/plain": [
       "[0, 0.0, 33.5, 55.8]"
      ]
     },
     "execution_count": 16,
     "metadata": {},
     "output_type": "execute_result"
    }
   ],
   "source": [
    "one_candle_data_ohlc_candle"
   ]
  },
  {
   "cell_type": "code",
   "execution_count": 17,
   "metadata": {},
   "outputs": [],
   "source": [
    "#Apply this function in to generator function to get sequences with candlestick data instead of OHLC data\n",
    "def my_generator_candle(data,lookback):\n",
    "    first_row = 0\n",
    "    arr = np.empty((1,lookback,4), int)\n",
    "    for a in range(len(data)-lookback):\n",
    "        temp_list = []\n",
    "        for candle in data[first_row:first_row+lookback]:\n",
    "            converted_data = ohlc_to_candlestick(candle)\n",
    "            temp_list.append(converted_data)\n",
    "        temp_list2 = np.asarray(temp_list)\n",
    "        templist3 = [temp_list2]\n",
    "        templist4 = np.asarray(templist3)\n",
    "        arr = np.append(arr, templist4, axis=0)\n",
    "        first_row=first_row+1\n",
    "    return arr"
   ]
  },
  {
   "cell_type": "code",
   "execution_count": 18,
   "metadata": {},
   "outputs": [
    {
     "data": {
      "text/plain": [
       "array([[[ 0. ,  0. , 22.3, 89.3],\n",
       "        [ 1. ,  0. , 55.8, 78.1],\n",
       "        [ 0. , 33.5, 44.6, 33.5]],\n",
       "\n",
       "       [[ 1. ,  0. , 55.8, 78.1],\n",
       "        [ 0. , 33.5, 44.6, 33.5],\n",
       "        [ 1. , 44.7, 22.3, 22.3]],\n",
       "\n",
       "       [[ 0. , 33.5, 44.6, 33.5],\n",
       "        [ 1. , 44.7, 22.3, 22.3],\n",
       "        [ 0. ,  0. , 33.5, 33.5]],\n",
       "\n",
       "       [[ 1. , 44.7, 22.3, 22.3],\n",
       "        [ 0. ,  0. , 33.5, 33.5],\n",
       "        [ 0. ,  0. , 33.5, 55.8]],\n",
       "\n",
       "       [[ 0. ,  0. , 33.5, 33.5],\n",
       "        [ 0. ,  0. , 33.5, 55.8],\n",
       "        [ 0. , 22.3, 22.3, 89.3]]])"
      ]
     },
     "execution_count": 18,
     "metadata": {},
     "output_type": "execute_result"
    }
   ],
   "source": [
    "three_dim_sequence_candle=my_generator_candle(df.values[1:], lookback)\n",
    "three_dim_sequence_candle[1000:1005]"
   ]
  },
  {
   "cell_type": "code",
   "execution_count": 19,
   "metadata": {},
   "outputs": [],
   "source": [
    "def ShootingStar(candle , prev_candle):\n",
    "    close = candle[3]\n",
    "    open = candle[0]\n",
    "    high = candle[1]\n",
    "    low = candle[2]\n",
    "\n",
    "    prev_close = prev_candle[3]\n",
    "    prev_open = prev_candle[0]\n",
    "    prev_high = prev_candle[1]\n",
    "    prev_low = prev_candle[2]\n",
    "\n",
    "    return (prev_open < prev_close < open and\n",
    "                high - max(open, close) >= abs(open - close) * 3 and\n",
    "                min(close, open) - low <= abs(open - close))"
   ]
  },
  {
   "cell_type": "code",
   "execution_count": 20,
   "metadata": {},
   "outputs": [],
   "source": [
    "def EveningStar(candle , prev_candle , b_prev_candle):\n",
    "    close = candle[3]\n",
    "    open = candle[0]\n",
    "    high = candle[1]\n",
    "    low = candle[2]\n",
    "\n",
    "    prev_close = prev_candle[3]\n",
    "    prev_open = prev_candle[0]\n",
    "    prev_high = prev_candle[1]\n",
    "    prev_low = prev_candle[2]\n",
    "\n",
    "    b_prev_close = b_prev_candle[3]\n",
    "    b_prev_open = b_prev_candle[0]\n",
    "    b_prev_high = b_prev_candle[1]\n",
    "    b_prev_low = b_prev_candle[2]\n",
    "\n",
    "    return (min(prev_open, prev_close) > b_prev_close > b_prev_open and\n",
    "                close < open < min(prev_open, prev_close))"
   ]
  },
  {
   "cell_type": "code",
   "execution_count": 21,
   "metadata": {},
   "outputs": [],
   "source": [
    "def BearishEngulfing(candle , prev_candle):\n",
    "    close = candle[3]\n",
    "    open = candle[0]\n",
    "    high = candle[1]\n",
    "    low = candle[2]\n",
    "\n",
    "    prev_close = prev_candle[3]\n",
    "    prev_open = prev_candle[0]\n",
    "    prev_high = prev_candle[1]\n",
    "    prev_low = prev_candle[2]\n",
    "\n",
    "    return (open >= prev_close > prev_open and\n",
    "                open > close and\n",
    "                prev_open >= close and \n",
    "                open - close > prev_close - prev_open)"
   ]
  },
  {
   "cell_type": "code",
   "execution_count": 22,
   "metadata": {},
   "outputs": [],
   "source": [
    "def DragonflyDoji(candle):\n",
    "\n",
    "    close = candle[3]\n",
    "    open = candle[0]\n",
    "    high = candle[1]\n",
    "    low = candle[2]\n",
    "\n",
    "    return abs(close - open) / (high - low) < 0.1 and \\\n",
    "            (min(close, open) - low) > (3 * abs(close - open)) and \\\n",
    "            (high - max(close, open)) < abs(close - open)"
   ]
  },
  {
   "cell_type": "code",
   "execution_count": 23,
   "metadata": {},
   "outputs": [],
   "source": [
    "#Function preprocessing the data to clasiffy it into 3 relevant array\n",
    "\n",
    "#arr : converted data array using ohlc_to_candlestick\n",
    "# arr3 : raw data array\n",
    "# arr2: preditcion\n",
    "\n",
    "# ShootingStar\n",
    "# EveningStar\n",
    "# BearishEngulfing\n",
    "# DragonflyDoji\n",
    "\n",
    "def my_generator_candle_X_Y(data,lookback,MinMax = False  , isPattern = False):\n",
    "    if MinMax==True:scaler = preprocessing.MinMaxScaler()\n",
    "    first_row = 0\n",
    "    arr = np.empty((0,lookback,4))\n",
    "\n",
    "    arr3 = np.empty((0,lookback,4))\n",
    "    \n",
    "    Y_list = []\n",
    "    for a in range(len(data)-lookback):\n",
    "        curr_data = data[first_row + lookback - 1]\n",
    "        prev_data = data[first_row + lookback - 2]\n",
    "        b_prev_data = data[first_row + lookback - 3]\n",
    "        temp_list = []\n",
    "        temp_list_raw = []\n",
    "\n",
    "        if (( DragonflyDoji(curr_data) ) | ( BearishEngulfing(curr_data , prev_data) ) \n",
    "            | ( ShootingStar(curr_data , prev_data )) | (EveningStar(curr_data , prev_data , b_prev_data)) | isPattern):\n",
    "            for candle in data[first_row:first_row+lookback]:\n",
    "                converted_data = ohlc_to_candlestick(candle)\n",
    "                temp_list.append(converted_data)\n",
    "                temp_list_raw.append(candle)\n",
    "\n",
    "            temp_list3 = [np.asarray(temp_list)]\n",
    "            templist4 = np.asarray(temp_list3)\n",
    "            \n",
    "            if MinMax==True:\n",
    "                templist99 = scaler.fit_transform(templist4[0])\n",
    "                arr = np.append(arr, [templist99], axis=0)\n",
    "            else:\n",
    "                arr = np.append(arr, templist4, axis=0)\n",
    "\n",
    "            temp_list7 = [np.asarray(temp_list_raw)]\n",
    "            templist8 = np.asarray(temp_list7)\n",
    "            arr3 = np.append(arr3, templist8, axis=0)\n",
    "\n",
    "            converted_data_prediction = ohlc_to_candlestick(data[first_row+lookback])\n",
    "\n",
    "            Prediction = converted_data_prediction[0]\n",
    "            Y_list.append(Prediction)\n",
    "\n",
    "        \n",
    "        first_row=first_row + 1\n",
    "\n",
    "    arr2 = np.asarray(Y_list)\n",
    "\n",
    "    return arr,arr2,arr3"
   ]
  },
  {
   "cell_type": "code",
   "execution_count": 24,
   "metadata": {},
   "outputs": [
    {
     "name": "stdout",
     "output_type": "stream",
     "text": [
      "Time elapsed: 00:00:00\n"
     ]
    }
   ],
   "source": [
    "# X : converted data array using ohlc_to_candlestick\n",
    "# X_raw : raw data array\n",
    "# Y: preditcion\n",
    "cell_timer = MeasureTime()\n",
    "X,Y, X_raw = my_generator_candle_X_Y(df.values, lookback ,MinMax=False , isPattern= False )\n",
    "cell_timer.kill()"
   ]
  },
  {
   "cell_type": "code",
   "execution_count": 25,
   "metadata": {},
   "outputs": [
    {
     "data": {
      "text/plain": [
       "(581,)"
      ]
     },
     "execution_count": 25,
     "metadata": {},
     "output_type": "execute_result"
    }
   ],
   "source": [
    "Y.shape"
   ]
  },
  {
   "cell_type": "code",
   "execution_count": 26,
   "metadata": {},
   "outputs": [
    {
     "data": {
      "text/plain": [
       "(581, 3, 4)"
      ]
     },
     "execution_count": 26,
     "metadata": {},
     "output_type": "execute_result"
    }
   ],
   "source": [
    "X.shape"
   ]
  },
  {
   "cell_type": "code",
   "execution_count": 27,
   "metadata": {},
   "outputs": [
    {
     "name": "stdout",
     "output_type": "stream",
     "text": [
      "Bull: 307 percent: 52.84%\n",
      "Bear: 274 percent: 47.16%\n",
      "Total: 581\n"
     ]
    }
   ],
   "source": [
    "unique, counts = np.unique(Y, return_counts=True)\n",
    "predictions_type = dict(zip(unique, counts))\n",
    "print('Bull: ' + str((predictions_type[1])) + ' percent: ' + str(round((predictions_type[1]*100)/len(Y),2)) + '%')\n",
    "print('Bear: ' + str((predictions_type[0])) + ' percent: ' + str(round((predictions_type[0]*100)/len(Y),2)) + '%')\n",
    "print('Total: ' + str(len(Y)))"
   ]
  },
  {
   "cell_type": "code",
   "execution_count": 28,
   "metadata": {},
   "outputs": [
    {
     "name": "stdout",
     "output_type": "stream",
     "text": [
      "Shape of X (581, 3, 4)\n",
      "Shape of Y (581,)\n",
      "Shape of X raw ohlc (581, 3, 4)\n"
     ]
    }
   ],
   "source": [
    "print('Shape of X ' + str(X.shape))\n",
    "print('Shape of Y ' + str(Y.shape))\n",
    "print('Shape of X raw ohlc ' + str(X_raw.shape))"
   ]
  },
  {
   "cell_type": "code",
   "execution_count": 29,
   "metadata": {},
   "outputs": [],
   "source": [
    "# for a in range(5):\n",
    "#     b=a+1000\n",
    "#     if Y[b] == 1:print('Correct prediction would be Bullish ---^')\n",
    "#     if Y[b] == 0:print('Correct prediction would be Bearish ---v')\n",
    "#     graph_data_ohlc(X_raw[b])"
   ]
  },
  {
   "cell_type": "code",
   "execution_count": 30,
   "metadata": {},
   "outputs": [],
   "source": [
    "from keras import layers\n",
    "from tensorflow.keras.optimizers import RMSprop\n",
    "\n",
    "model = Sequential()\n",
    "\n",
    "model.add(layers.LSTM(units = 50,return_sequences=True, input_shape = (None, X.shape[-1])))\n",
    "model.add(Dropout(0.3))\n",
    "model.add(layers.LSTM(units = 50,return_sequences=True ))\n",
    "model.add(Dropout(0.3))\n",
    "model.add(layers.LSTM(units = 50))\n",
    "model.add(Dropout(0.3))\n",
    "model.add(layers.Dense(units = 1,activation='sigmoid'))\n",
    "\n",
    "model.compile(optimizer='rmsprop', loss='binary_crossentropy', metrics=['acc'])"
   ]
  },
  {
   "cell_type": "code",
   "execution_count": 31,
   "metadata": {},
   "outputs": [
    {
     "name": "stdout",
     "output_type": "stream",
     "text": [
      "Model: \"sequential\"\n",
      "_________________________________________________________________\n",
      " Layer (type)                Output Shape              Param #   \n",
      "=================================================================\n",
      " lstm (LSTM)                 (None, None, 50)          11000     \n",
      "                                                                 \n",
      " dropout (Dropout)           (None, None, 50)          0         \n",
      "                                                                 \n",
      " lstm_1 (LSTM)               (None, None, 50)          20200     \n",
      "                                                                 \n",
      " dropout_1 (Dropout)         (None, None, 50)          0         \n",
      "                                                                 \n",
      " lstm_2 (LSTM)               (None, 50)                20200     \n",
      "                                                                 \n",
      " dropout_2 (Dropout)         (None, 50)                0         \n",
      "                                                                 \n",
      " dense (Dense)               (None, 1)                 51        \n",
      "                                                                 \n",
      "=================================================================\n",
      "Total params: 51,451\n",
      "Trainable params: 51,451\n",
      "Non-trainable params: 0\n",
      "_________________________________________________________________\n"
     ]
    }
   ],
   "source": [
    "model.summary()"
   ]
  },
  {
   "cell_type": "code",
   "execution_count": 32,
   "metadata": {},
   "outputs": [
    {
     "name": "stdout",
     "output_type": "stream",
     "text": [
      "Time elapsed: 00:00:00\n"
     ]
    }
   ],
   "source": [
    "cell_timer = MeasureTime()\n",
    "X_train, X_val_and_test, Y_train, Y_val_and_test = train_test_split(X, Y, test_size=0.5 , shuffle = False)\n",
    "X_val, X_test, Y_val, Y_test = train_test_split(X_val_and_test, Y_val_and_test, test_size=0.5 , shuffle = False)\n",
    "\n",
    "X_train_raw, X_val_and_test_raw = train_test_split(X_raw, test_size=0.5 , shuffle = False )\n",
    "X_val_raw, X_test_raw = train_test_split(X_val_and_test_raw, test_size=0.5 , shuffle = False)\n",
    "cell_timer.kill()"
   ]
  },
  {
   "cell_type": "code",
   "execution_count": 33,
   "metadata": {},
   "outputs": [
    {
     "name": "stdout",
     "output_type": "stream",
     "text": [
      "Training data: X Input shape: (290, 3, 4), Y Output shape: (290,), datetime shape: (290,)\n",
      "Validation data: X Input shape: (145, 3, 4), Y Output shape: (145,), datetime shape: (145,)\n",
      "Test data: X Input shape: (146, 3, 4), Y Output shape: (146,), datetime shape: (146,)\n"
     ]
    }
   ],
   "source": [
    "print('Training data: ' + 'X Input shape: ' + str(X_train.shape) + ', ' + 'Y Output shape: ' + str(Y_train.shape) + ', ' + 'datetime shape: ' + str(Y_train.shape))\n",
    "print('Validation data: ' + 'X Input shape: ' + str(X_val.shape) + ', ' + 'Y Output shape: ' + str(Y_val.shape) + ', ' + 'datetime shape: ' + str(Y_val.shape))\n",
    "print('Test data: ' + 'X Input shape: ' + str(X_test.shape) + ', ' + 'Y Output shape: ' + str(Y_test.shape) + ', ' + 'datetime shape: ' + str(Y_test.shape))"
   ]
  },
  {
   "cell_type": "code",
   "execution_count": 34,
   "metadata": {},
   "outputs": [
    {
     "data": {
      "text/plain": [
       "(290, 3, 4)"
      ]
     },
     "execution_count": 34,
     "metadata": {},
     "output_type": "execute_result"
    }
   ],
   "source": [
    "X_train.shape"
   ]
  },
  {
   "cell_type": "code",
   "execution_count": 35,
   "metadata": {},
   "outputs": [
    {
     "name": "stdout",
     "output_type": "stream",
     "text": [
      "Epoch 1/100\n",
      "10/10 [==============================] - 5s 108ms/step - loss: 0.6962 - acc: 0.4448 - val_loss: 0.6859 - val_acc: 0.5448\n",
      "Epoch 2/100\n",
      "10/10 [==============================] - 0s 9ms/step - loss: 0.6939 - acc: 0.5069 - val_loss: 0.6896 - val_acc: 0.5586\n",
      "Epoch 3/100\n",
      "10/10 [==============================] - 0s 7ms/step - loss: 0.6916 - acc: 0.5034 - val_loss: 0.6897 - val_acc: 0.5241\n",
      "Epoch 4/100\n",
      "10/10 [==============================] - 0s 6ms/step - loss: 0.6877 - acc: 0.5655 - val_loss: 0.6911 - val_acc: 0.5310\n",
      "Epoch 5/100\n",
      "10/10 [==============================] - 0s 7ms/step - loss: 0.6841 - acc: 0.5345 - val_loss: 0.6922 - val_acc: 0.5034\n",
      "Epoch 6/100\n",
      "10/10 [==============================] - 0s 6ms/step - loss: 0.6871 - acc: 0.5448 - val_loss: 0.6946 - val_acc: 0.4966\n",
      "Epoch 7/100\n",
      "10/10 [==============================] - 0s 7ms/step - loss: 0.6743 - acc: 0.6034 - val_loss: 0.6982 - val_acc: 0.5172\n",
      "Epoch 8/100\n",
      "10/10 [==============================] - 0s 7ms/step - loss: 0.6827 - acc: 0.5724 - val_loss: 0.7009 - val_acc: 0.4966\n",
      "Epoch 9/100\n",
      "10/10 [==============================] - 0s 7ms/step - loss: 0.6756 - acc: 0.5862 - val_loss: 0.7006 - val_acc: 0.4966\n",
      "Epoch 10/100\n",
      "10/10 [==============================] - 0s 8ms/step - loss: 0.6791 - acc: 0.5759 - val_loss: 0.6945 - val_acc: 0.5310\n",
      "Epoch 11/100\n",
      "10/10 [==============================] - 0s 7ms/step - loss: 0.6693 - acc: 0.5897 - val_loss: 0.6909 - val_acc: 0.5034\n",
      "Epoch 12/100\n",
      "10/10 [==============================] - 0s 7ms/step - loss: 0.6758 - acc: 0.5793 - val_loss: 0.6907 - val_acc: 0.5103\n",
      "Epoch 13/100\n",
      "10/10 [==============================] - 0s 7ms/step - loss: 0.6581 - acc: 0.6345 - val_loss: 0.6948 - val_acc: 0.5034\n",
      "Epoch 14/100\n",
      "10/10 [==============================] - 0s 7ms/step - loss: 0.6652 - acc: 0.6034 - val_loss: 0.6979 - val_acc: 0.5034\n",
      "Epoch 15/100\n",
      "10/10 [==============================] - 0s 7ms/step - loss: 0.6577 - acc: 0.6000 - val_loss: 0.6884 - val_acc: 0.5241\n",
      "Epoch 16/100\n",
      "10/10 [==============================] - 0s 7ms/step - loss: 0.6519 - acc: 0.5897 - val_loss: 0.6906 - val_acc: 0.5241\n",
      "Epoch 17/100\n",
      "10/10 [==============================] - 0s 7ms/step - loss: 0.6408 - acc: 0.6414 - val_loss: 0.6964 - val_acc: 0.5310\n",
      "Epoch 18/100\n",
      "10/10 [==============================] - 0s 7ms/step - loss: 0.6499 - acc: 0.5897 - val_loss: 0.7106 - val_acc: 0.5172\n",
      "Epoch 19/100\n",
      "10/10 [==============================] - 0s 7ms/step - loss: 0.6479 - acc: 0.6552 - val_loss: 0.7177 - val_acc: 0.4897\n",
      "Epoch 20/100\n",
      "10/10 [==============================] - 0s 7ms/step - loss: 0.6260 - acc: 0.6483 - val_loss: 0.7046 - val_acc: 0.5517\n",
      "Epoch 21/100\n",
      "10/10 [==============================] - 0s 7ms/step - loss: 0.6299 - acc: 0.6517 - val_loss: 0.7010 - val_acc: 0.5103\n",
      "Epoch 22/100\n",
      "10/10 [==============================] - 0s 6ms/step - loss: 0.6256 - acc: 0.6724 - val_loss: 0.7033 - val_acc: 0.5517\n",
      "Epoch 23/100\n",
      "10/10 [==============================] - 0s 6ms/step - loss: 0.6335 - acc: 0.6379 - val_loss: 0.7077 - val_acc: 0.5586\n",
      "Epoch 24/100\n",
      "10/10 [==============================] - 0s 7ms/step - loss: 0.6254 - acc: 0.6690 - val_loss: 0.7102 - val_acc: 0.5448\n",
      "Epoch 25/100\n",
      "10/10 [==============================] - 0s 7ms/step - loss: 0.6247 - acc: 0.6414 - val_loss: 0.7124 - val_acc: 0.5241\n",
      "Epoch 26/100\n",
      "10/10 [==============================] - 0s 6ms/step - loss: 0.6044 - acc: 0.6483 - val_loss: 0.7245 - val_acc: 0.5379\n",
      "Epoch 27/100\n",
      "10/10 [==============================] - 0s 6ms/step - loss: 0.6262 - acc: 0.6276 - val_loss: 0.7060 - val_acc: 0.5655\n",
      "Epoch 28/100\n",
      "10/10 [==============================] - 0s 7ms/step - loss: 0.6141 - acc: 0.6345 - val_loss: 0.7107 - val_acc: 0.5586\n",
      "Epoch 29/100\n",
      "10/10 [==============================] - 0s 7ms/step - loss: 0.6055 - acc: 0.6621 - val_loss: 0.7459 - val_acc: 0.5448\n",
      "Epoch 30/100\n",
      "10/10 [==============================] - 0s 7ms/step - loss: 0.6116 - acc: 0.6517 - val_loss: 0.7261 - val_acc: 0.5517\n",
      "Epoch 31/100\n",
      "10/10 [==============================] - 0s 6ms/step - loss: 0.6027 - acc: 0.6207 - val_loss: 0.7446 - val_acc: 0.5172\n",
      "Epoch 32/100\n",
      "10/10 [==============================] - 0s 6ms/step - loss: 0.6082 - acc: 0.6414 - val_loss: 0.7120 - val_acc: 0.5586\n",
      "Epoch 33/100\n",
      "10/10 [==============================] - 0s 7ms/step - loss: 0.6018 - acc: 0.6586 - val_loss: 0.7192 - val_acc: 0.5379\n",
      "Epoch 34/100\n",
      "10/10 [==============================] - 0s 6ms/step - loss: 0.5845 - acc: 0.6862 - val_loss: 0.7505 - val_acc: 0.5655\n",
      "Epoch 35/100\n",
      "10/10 [==============================] - 0s 6ms/step - loss: 0.5748 - acc: 0.7241 - val_loss: 0.7293 - val_acc: 0.5379\n",
      "Epoch 36/100\n",
      "10/10 [==============================] - 0s 7ms/step - loss: 0.5933 - acc: 0.6724 - val_loss: 0.7138 - val_acc: 0.5793\n",
      "Epoch 37/100\n",
      "10/10 [==============================] - 0s 7ms/step - loss: 0.5907 - acc: 0.6552 - val_loss: 0.7347 - val_acc: 0.5517\n",
      "Epoch 38/100\n",
      "10/10 [==============================] - 0s 7ms/step - loss: 0.5902 - acc: 0.6690 - val_loss: 0.7024 - val_acc: 0.5931\n",
      "Epoch 39/100\n",
      "10/10 [==============================] - 0s 7ms/step - loss: 0.5837 - acc: 0.6655 - val_loss: 0.7265 - val_acc: 0.5448\n",
      "Epoch 40/100\n",
      "10/10 [==============================] - 0s 6ms/step - loss: 0.5904 - acc: 0.6759 - val_loss: 0.7311 - val_acc: 0.5793\n",
      "Epoch 41/100\n",
      "10/10 [==============================] - 0s 6ms/step - loss: 0.5869 - acc: 0.6690 - val_loss: 0.7132 - val_acc: 0.5931\n",
      "Epoch 42/100\n",
      "10/10 [==============================] - 0s 7ms/step - loss: 0.5705 - acc: 0.7172 - val_loss: 0.7471 - val_acc: 0.5241\n",
      "Epoch 43/100\n",
      "10/10 [==============================] - 0s 7ms/step - loss: 0.5484 - acc: 0.7276 - val_loss: 0.7548 - val_acc: 0.5448\n",
      "Epoch 44/100\n",
      "10/10 [==============================] - 0s 7ms/step - loss: 0.5687 - acc: 0.7103 - val_loss: 0.7395 - val_acc: 0.5724\n",
      "Epoch 45/100\n",
      "10/10 [==============================] - 0s 7ms/step - loss: 0.5165 - acc: 0.7414 - val_loss: 0.7758 - val_acc: 0.5724\n",
      "Epoch 46/100\n",
      "10/10 [==============================] - 0s 7ms/step - loss: 0.5855 - acc: 0.6621 - val_loss: 0.7464 - val_acc: 0.5517\n",
      "Epoch 47/100\n",
      "10/10 [==============================] - 0s 6ms/step - loss: 0.5669 - acc: 0.7034 - val_loss: 0.8166 - val_acc: 0.5379\n",
      "Epoch 48/100\n",
      "10/10 [==============================] - 0s 7ms/step - loss: 0.5548 - acc: 0.6931 - val_loss: 0.8117 - val_acc: 0.5586\n",
      "Epoch 49/100\n",
      "10/10 [==============================] - 0s 7ms/step - loss: 0.5596 - acc: 0.6931 - val_loss: 0.8390 - val_acc: 0.5448\n",
      "Epoch 50/100\n",
      "10/10 [==============================] - 0s 7ms/step - loss: 0.5559 - acc: 0.7034 - val_loss: 0.8398 - val_acc: 0.5448\n",
      "Epoch 51/100\n",
      "10/10 [==============================] - 0s 7ms/step - loss: 0.5609 - acc: 0.7000 - val_loss: 0.7841 - val_acc: 0.5517\n",
      "Epoch 52/100\n",
      "10/10 [==============================] - 0s 7ms/step - loss: 0.5321 - acc: 0.7138 - val_loss: 0.7709 - val_acc: 0.5862\n",
      "Epoch 53/100\n",
      "10/10 [==============================] - 0s 7ms/step - loss: 0.5165 - acc: 0.7379 - val_loss: 0.8268 - val_acc: 0.5655\n",
      "Epoch 54/100\n",
      "10/10 [==============================] - 0s 6ms/step - loss: 0.5385 - acc: 0.7276 - val_loss: 0.8064 - val_acc: 0.5379\n",
      "Epoch 55/100\n",
      "10/10 [==============================] - 0s 7ms/step - loss: 0.5400 - acc: 0.7207 - val_loss: 0.7784 - val_acc: 0.5862\n",
      "Epoch 56/100\n",
      "10/10 [==============================] - 0s 7ms/step - loss: 0.5445 - acc: 0.7172 - val_loss: 0.7923 - val_acc: 0.5724\n",
      "Epoch 57/100\n",
      "10/10 [==============================] - 0s 6ms/step - loss: 0.5423 - acc: 0.7138 - val_loss: 0.7744 - val_acc: 0.5724\n",
      "Epoch 58/100\n",
      "10/10 [==============================] - 0s 7ms/step - loss: 0.5139 - acc: 0.7172 - val_loss: 0.7908 - val_acc: 0.5724\n",
      "Epoch 59/100\n",
      "10/10 [==============================] - 0s 7ms/step - loss: 0.4718 - acc: 0.7828 - val_loss: 0.7688 - val_acc: 0.5517\n",
      "Epoch 60/100\n",
      "10/10 [==============================] - 0s 7ms/step - loss: 0.5046 - acc: 0.7345 - val_loss: 0.8125 - val_acc: 0.5241\n",
      "Epoch 61/100\n",
      "10/10 [==============================] - 0s 7ms/step - loss: 0.5141 - acc: 0.7448 - val_loss: 0.8039 - val_acc: 0.5655\n",
      "Epoch 62/100\n",
      "10/10 [==============================] - 0s 6ms/step - loss: 0.5093 - acc: 0.7517 - val_loss: 0.8035 - val_acc: 0.5655\n",
      "Epoch 63/100\n",
      "10/10 [==============================] - 0s 6ms/step - loss: 0.5094 - acc: 0.7448 - val_loss: 0.8048 - val_acc: 0.5724\n",
      "Epoch 64/100\n",
      "10/10 [==============================] - 0s 6ms/step - loss: 0.4959 - acc: 0.7483 - val_loss: 0.8047 - val_acc: 0.5931\n",
      "Epoch 65/100\n",
      "10/10 [==============================] - 0s 6ms/step - loss: 0.5155 - acc: 0.7448 - val_loss: 0.9011 - val_acc: 0.5448\n",
      "Epoch 66/100\n",
      "10/10 [==============================] - 0s 7ms/step - loss: 0.4926 - acc: 0.7897 - val_loss: 0.8739 - val_acc: 0.5379\n",
      "Epoch 67/100\n",
      "10/10 [==============================] - 0s 7ms/step - loss: 0.4736 - acc: 0.7724 - val_loss: 0.9071 - val_acc: 0.5724\n",
      "Epoch 68/100\n",
      "10/10 [==============================] - 0s 6ms/step - loss: 0.5269 - acc: 0.7552 - val_loss: 0.8109 - val_acc: 0.5724\n",
      "Epoch 69/100\n",
      "10/10 [==============================] - 0s 7ms/step - loss: 0.4586 - acc: 0.7759 - val_loss: 0.8682 - val_acc: 0.5517\n",
      "Epoch 70/100\n",
      "10/10 [==============================] - 0s 7ms/step - loss: 0.4535 - acc: 0.7897 - val_loss: 0.8696 - val_acc: 0.5931\n",
      "Epoch 71/100\n",
      "10/10 [==============================] - 0s 7ms/step - loss: 0.4565 - acc: 0.7793 - val_loss: 0.8700 - val_acc: 0.5586\n",
      "Epoch 72/100\n",
      "10/10 [==============================] - 0s 6ms/step - loss: 0.4646 - acc: 0.7966 - val_loss: 0.9020 - val_acc: 0.5379\n",
      "Epoch 73/100\n",
      "10/10 [==============================] - 0s 7ms/step - loss: 0.4853 - acc: 0.7517 - val_loss: 0.8630 - val_acc: 0.5862\n",
      "Epoch 74/100\n",
      "10/10 [==============================] - 0s 7ms/step - loss: 0.5108 - acc: 0.7621 - val_loss: 0.8218 - val_acc: 0.5655\n",
      "Epoch 75/100\n",
      "10/10 [==============================] - 0s 7ms/step - loss: 0.4592 - acc: 0.7586 - val_loss: 0.8303 - val_acc: 0.5586\n",
      "Epoch 76/100\n",
      "10/10 [==============================] - 0s 7ms/step - loss: 0.4524 - acc: 0.7966 - val_loss: 0.8587 - val_acc: 0.5310\n",
      "Epoch 77/100\n",
      "10/10 [==============================] - 0s 8ms/step - loss: 0.4741 - acc: 0.7897 - val_loss: 0.9088 - val_acc: 0.5586\n",
      "Epoch 78/100\n",
      "10/10 [==============================] - 0s 8ms/step - loss: 0.4518 - acc: 0.7759 - val_loss: 0.8672 - val_acc: 0.5517\n",
      "Epoch 79/100\n",
      "10/10 [==============================] - 0s 7ms/step - loss: 0.4758 - acc: 0.7724 - val_loss: 0.8095 - val_acc: 0.5793\n",
      "Epoch 80/100\n",
      "10/10 [==============================] - 0s 7ms/step - loss: 0.4487 - acc: 0.7828 - val_loss: 0.8196 - val_acc: 0.5448\n",
      "Epoch 81/100\n",
      "10/10 [==============================] - 0s 7ms/step - loss: 0.4164 - acc: 0.8207 - val_loss: 0.8751 - val_acc: 0.5310\n",
      "Epoch 82/100\n",
      "10/10 [==============================] - 0s 7ms/step - loss: 0.4137 - acc: 0.7966 - val_loss: 0.8917 - val_acc: 0.5724\n",
      "Epoch 83/100\n",
      "10/10 [==============================] - 0s 8ms/step - loss: 0.4589 - acc: 0.7759 - val_loss: 0.9016 - val_acc: 0.5793\n",
      "Epoch 84/100\n",
      "10/10 [==============================] - 0s 7ms/step - loss: 0.4624 - acc: 0.7862 - val_loss: 0.9642 - val_acc: 0.5379\n",
      "Epoch 85/100\n",
      "10/10 [==============================] - 0s 7ms/step - loss: 0.4185 - acc: 0.8103 - val_loss: 0.8662 - val_acc: 0.5586\n",
      "Epoch 86/100\n",
      "10/10 [==============================] - 0s 6ms/step - loss: 0.4135 - acc: 0.8138 - val_loss: 0.8926 - val_acc: 0.5517\n",
      "Epoch 87/100\n",
      "10/10 [==============================] - 0s 6ms/step - loss: 0.3826 - acc: 0.8034 - val_loss: 1.0531 - val_acc: 0.5586\n",
      "Epoch 88/100\n",
      "10/10 [==============================] - 0s 7ms/step - loss: 0.4136 - acc: 0.8000 - val_loss: 0.9472 - val_acc: 0.5448\n",
      "Epoch 89/100\n",
      "10/10 [==============================] - 0s 7ms/step - loss: 0.4174 - acc: 0.8103 - val_loss: 0.9650 - val_acc: 0.5793\n",
      "Epoch 90/100\n",
      "10/10 [==============================] - 0s 7ms/step - loss: 0.4397 - acc: 0.8172 - val_loss: 0.9771 - val_acc: 0.5448\n",
      "Epoch 91/100\n",
      "10/10 [==============================] - 0s 9ms/step - loss: 0.4459 - acc: 0.7897 - val_loss: 0.8845 - val_acc: 0.5586\n",
      "Epoch 92/100\n",
      "10/10 [==============================] - 0s 9ms/step - loss: 0.4359 - acc: 0.8000 - val_loss: 0.8989 - val_acc: 0.5724\n",
      "Epoch 93/100\n",
      "10/10 [==============================] - 0s 7ms/step - loss: 0.4090 - acc: 0.8172 - val_loss: 0.8472 - val_acc: 0.5931\n",
      "Epoch 94/100\n",
      "10/10 [==============================] - 0s 6ms/step - loss: 0.4187 - acc: 0.8172 - val_loss: 0.8923 - val_acc: 0.6000\n",
      "Epoch 95/100\n",
      "10/10 [==============================] - 0s 7ms/step - loss: 0.4114 - acc: 0.8069 - val_loss: 0.8755 - val_acc: 0.5793\n",
      "Epoch 96/100\n",
      "10/10 [==============================] - 0s 6ms/step - loss: 0.4256 - acc: 0.7966 - val_loss: 0.9294 - val_acc: 0.5931\n",
      "Epoch 97/100\n",
      "10/10 [==============================] - 0s 6ms/step - loss: 0.3836 - acc: 0.8276 - val_loss: 1.0888 - val_acc: 0.5448\n",
      "Epoch 98/100\n",
      "10/10 [==============================] - 0s 7ms/step - loss: 0.3567 - acc: 0.8310 - val_loss: 1.0031 - val_acc: 0.6000\n",
      "Epoch 99/100\n",
      "10/10 [==============================] - 0s 7ms/step - loss: 0.3856 - acc: 0.8172 - val_loss: 1.0596 - val_acc: 0.5586\n",
      "Epoch 100/100\n",
      "10/10 [==============================] - 0s 10ms/step - loss: 0.4141 - acc: 0.8207 - val_loss: 0.9586 - val_acc: 0.5724\n",
      "Time elapsed: 00:00:12\n"
     ]
    }
   ],
   "source": [
    "cell_timer = MeasureTime()\n",
    "history = model.fit(X_train, Y_train, epochs= 100 ,validation_data=(X_val, Y_val))\n",
    "cell_timer.kill() "
   ]
  },
  {
   "cell_type": "code",
   "execution_count": 36,
   "metadata": {},
   "outputs": [
    {
     "data": {
      "image/png": "[encoded data removed]",
      "text/plain": [
       "<Figure size 432x288 with 1 Axes>"
      ]
     },
     "metadata": {
      "needs_background": "light"
     },
     "output_type": "display_data"
    },
    {
     "data": {
      "image/png": "[encoded data removed]",
      "text/plain": [
       "<Figure size 432x288 with 1 Axes>"
      ]
     },
     "metadata": {
      "needs_background": "light"
     },
     "output_type": "display_data"
    }
   ],
   "source": [
    "# Chart 1 - Model Loss\n",
    "#plt.subplot(331)\n",
    "plt.plot(history.history['loss'])\n",
    "plt.plot(history.history['val_loss'])\n",
    "plt.title('Model loss')\n",
    "plt.ylabel('Loss')\n",
    "plt.xlabel('Epoch')\n",
    "plt.legend(['Train', 'Val'], loc='upper right')\n",
    "plt.show()\n",
    "\n",
    "\n",
    "# Chart 2 - Model Accuracy\n",
    "#plt.subplot(332)\n",
    "plt.plot(history.history['acc'])\n",
    "plt.plot(history.history['val_acc'])\n",
    "plt.title('Model accuracy')\n",
    "plt.ylabel('Accuracy')\n",
    "plt.xlabel('Epoch')\n",
    "plt.legend(['Train', 'Val'], loc='lower right')\n",
    "plt.show()"
   ]
  },
  {
   "cell_type": "code",
   "execution_count": 37,
   "metadata": {},
   "outputs": [
    {
     "name": "stdout",
     "output_type": "stream",
     "text": [
      "5/5 [==============================] - 0s 2ms/step - loss: 0.8920 - acc: 0.6096\n",
      "Test accuracy: 0.6095890402793884\n"
     ]
    }
   ],
   "source": [
    "test_loss, test_acc = model.evaluate(X_test, Y_test)\n",
    "print('Test accuracy:', test_acc)"
   ]
  },
  {
   "cell_type": "code",
   "execution_count": 38,
   "metadata": {},
   "outputs": [
    {
     "name": "stdout",
     "output_type": "stream",
     "text": [
      "Won: 0 Lost: 0\n"
     ]
    },
    {
     "ename": "ZeroDivisionError",
     "evalue": "division by zero",
     "output_type": "error",
     "traceback": [
      "\u001b[1;31m---------------------------------------------------------------------------\u001b[0m",
      "\u001b[1;31mZeroDivisionError\u001b[0m                         Traceback (most recent call last)",
      "\u001b[1;32m<ipython-input-38-04db878b6d69>\u001b[0m in \u001b[0;36m<module>\u001b[1;34m\u001b[0m\n\u001b[0;32m      7\u001b[0m \u001b[1;33m\u001b[0m\u001b[0m\n\u001b[0;32m      8\u001b[0m \u001b[0mprint\u001b[0m\u001b[1;33m(\u001b[0m\u001b[1;34m'Won: '\u001b[0m \u001b[1;33m+\u001b[0m \u001b[0mstr\u001b[0m\u001b[1;33m(\u001b[0m\u001b[0mwon\u001b[0m\u001b[1;33m)\u001b[0m \u001b[1;33m+\u001b[0m \u001b[1;34m' Lost: '\u001b[0m \u001b[1;33m+\u001b[0m \u001b[0mstr\u001b[0m\u001b[1;33m(\u001b[0m\u001b[0mlost\u001b[0m\u001b[1;33m)\u001b[0m\u001b[1;33m)\u001b[0m\u001b[1;33m\u001b[0m\u001b[1;33m\u001b[0m\u001b[0m\n\u001b[1;32m----> 9\u001b[1;33m \u001b[0mprint\u001b[0m\u001b[1;33m(\u001b[0m\u001b[1;34m'Success rate: '\u001b[0m \u001b[1;33m+\u001b[0m \u001b[0mstr\u001b[0m\u001b[1;33m(\u001b[0m\u001b[0mround\u001b[0m\u001b[1;33m(\u001b[0m\u001b[1;33m(\u001b[0m\u001b[0mwon\u001b[0m\u001b[1;33m*\u001b[0m\u001b[1;36m100\u001b[0m\u001b[1;33m)\u001b[0m\u001b[1;33m/\u001b[0m\u001b[1;33m(\u001b[0m\u001b[0mwon\u001b[0m\u001b[1;33m+\u001b[0m\u001b[0mlost\u001b[0m\u001b[1;33m)\u001b[0m\u001b[1;33m,\u001b[0m\u001b[1;36m2\u001b[0m\u001b[1;33m)\u001b[0m\u001b[1;33m)\u001b[0m \u001b[1;33m+\u001b[0m \u001b[1;34m'%'\u001b[0m\u001b[1;33m)\u001b[0m\u001b[1;33m\u001b[0m\u001b[1;33m\u001b[0m\u001b[0m\n\u001b[0m\u001b[0;32m     10\u001b[0m \u001b[1;33m\u001b[0m\u001b[0m\n\u001b[0;32m     11\u001b[0m \u001b[1;32mfor\u001b[0m \u001b[0ma\u001b[0m \u001b[1;32min\u001b[0m \u001b[0mtest\u001b[0m\u001b[1;33m:\u001b[0m\u001b[1;33m\u001b[0m\u001b[1;33m\u001b[0m\u001b[0m\n",
      "\u001b[1;31mZeroDivisionError\u001b[0m: division by zero"
     ]
    }
   ],
   "source": [
    "cell_timer = MeasureTime()\n",
    "counter = 0\n",
    "won = 0\n",
    "lost = 0\n",
    "test = model.predict(X_test)\n",
    "alpha_distance = 0.35\n",
    "\n",
    "print('Won: ' + str(won) + ' Lost: ' + str(lost))\n",
    "print('Success rate: ' + str(round((won*100)/(won+lost),2)) + '%')\n",
    "\n",
    "for a in test:\n",
    "    if a > (1-alpha_distance) or a < alpha_distance :\n",
    "        if Y_test[counter] == 1:print('Correct prediction is Bullish')\n",
    "        if Y_test[counter] == 0:print('Correct prediction is Bearish')\n",
    "        if a > (1-alpha_distance):print('Model prediction is Bullish')\n",
    "        if a < alpha_distance:print('Model prediction is Bearish')\n",
    "\n",
    "        if (a > (1-alpha_distance) and Y_test[counter] == 1) or (a < alpha_distance and Y_test[counter] == 0):\n",
    "            won=won+1\n",
    "            print('WON')\n",
    "        else:\n",
    "            print('LOST')\n",
    "            lost=lost+1\n",
    "\n",
    "        d_arr = np.empty(( 0 ,4))\n",
    "\n",
    "        d_arr = np.append(d_arr , X_test_raw[counter] , axis= 0 )\n",
    "        if (counter + 1 < len(X_test_raw)):\n",
    "            d_arr = np.append(d_arr , X_test_raw[counter + 1][2].reshape(1,4) , axis= 0 )\n",
    "\n",
    "        graph_data_ohlc(d_arr)\n",
    "\n",
    "    counter=counter+1\n",
    "    \n",
    "print('Won: ' + str(won) + ' Lost: ' + str(lost))\n",
    "print('Success rate: ' + str(round((won*100)/(won+lost),2)) + '%')\n",
    "cell_timer.kill()"
   ]
  },
  {
   "cell_type": "code",
   "execution_count": null,
   "metadata": {},
   "outputs": [],
   "source": []
  },
  {
   "cell_type": "code",
   "execution_count": null,
   "metadata": {},
   "outputs": [],
   "source": []
  }
 ],
 "metadata": {
  "interpreter": {
   "hash": "63fd5069d213b44bf678585dea6b12cceca9941eaf7f819626cde1f2670de90d"
  },
  "kernelspec": {
   "display_name": "Python 3.9.0 64-bit",
   "language": "python",
   "name": "python3"
  },
  "language_info": {
   "codemirror_mode": {
    "name": "ipython",
    "version": 3
   },
   "file_extension": ".py",
   "mimetype": "text/x-python",
   "name": "python",
   "nbconvert_exporter": "python",
   "pygments_lexer": "ipython3",
   "version": "3.9.0"
  },
  "orig_nbformat": 4
 },
 "nbformat": 4,
 "nbformat_minor": 2
}
